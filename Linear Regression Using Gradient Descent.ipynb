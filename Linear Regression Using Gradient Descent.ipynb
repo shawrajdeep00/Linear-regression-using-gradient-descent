{
 "cells": [
  {
   "cell_type": "code",
   "execution_count": 1,
   "metadata": {},
   "outputs": [],
   "source": [
    "# This is a code to implement multivariate linear regression on boston dataset from scratch\n",
    "\n",
    "# ===================================Importing libraries====================================\n",
    "import numpy as np                              #for handling arrays and matrices\n",
    "import pandas as pd                             #for working with datasets and dataframes\n",
    "import matplotlib.pyplot as plt"
   ]
  },
  {
   "cell_type": "code",
   "execution_count": 5,
   "metadata": {},
   "outputs": [
    {
     "data": {
      "text/html": [
       "<div>\n",
       "<style scoped>\n",
       "    .dataframe tbody tr th:only-of-type {\n",
       "        vertical-align: middle;\n",
       "    }\n",
       "\n",
       "    .dataframe tbody tr th {\n",
       "        vertical-align: top;\n",
       "    }\n",
       "\n",
       "    .dataframe thead th {\n",
       "        text-align: right;\n",
       "    }\n",
       "</style>\n",
       "<table border=\"1\" class=\"dataframe\">\n",
       "  <thead>\n",
       "    <tr style=\"text-align: right;\">\n",
       "      <th></th>\n",
       "      <th>season</th>\n",
       "      <th>yr</th>\n",
       "      <th>mnth</th>\n",
       "      <th>hr</th>\n",
       "      <th>holiday</th>\n",
       "      <th>weekday</th>\n",
       "      <th>workingday</th>\n",
       "      <th>weathersit</th>\n",
       "      <th>temp</th>\n",
       "      <th>atemp</th>\n",
       "      <th>hum</th>\n",
       "      <th>windspeed</th>\n",
       "      <th>casual</th>\n",
       "      <th>registered</th>\n",
       "      <th>cnt</th>\n",
       "    </tr>\n",
       "  </thead>\n",
       "  <tbody>\n",
       "    <tr>\n",
       "      <th>0</th>\n",
       "      <td>1</td>\n",
       "      <td>0</td>\n",
       "      <td>1</td>\n",
       "      <td>0</td>\n",
       "      <td>0</td>\n",
       "      <td>6</td>\n",
       "      <td>0</td>\n",
       "      <td>1</td>\n",
       "      <td>0.24</td>\n",
       "      <td>0.2879</td>\n",
       "      <td>0.81</td>\n",
       "      <td>0.0</td>\n",
       "      <td>3</td>\n",
       "      <td>13</td>\n",
       "      <td>16</td>\n",
       "    </tr>\n",
       "    <tr>\n",
       "      <th>1</th>\n",
       "      <td>1</td>\n",
       "      <td>0</td>\n",
       "      <td>1</td>\n",
       "      <td>1</td>\n",
       "      <td>0</td>\n",
       "      <td>6</td>\n",
       "      <td>0</td>\n",
       "      <td>1</td>\n",
       "      <td>0.22</td>\n",
       "      <td>0.2727</td>\n",
       "      <td>0.80</td>\n",
       "      <td>0.0</td>\n",
       "      <td>8</td>\n",
       "      <td>32</td>\n",
       "      <td>40</td>\n",
       "    </tr>\n",
       "    <tr>\n",
       "      <th>2</th>\n",
       "      <td>1</td>\n",
       "      <td>0</td>\n",
       "      <td>1</td>\n",
       "      <td>2</td>\n",
       "      <td>0</td>\n",
       "      <td>6</td>\n",
       "      <td>0</td>\n",
       "      <td>1</td>\n",
       "      <td>0.22</td>\n",
       "      <td>0.2727</td>\n",
       "      <td>0.80</td>\n",
       "      <td>0.0</td>\n",
       "      <td>5</td>\n",
       "      <td>27</td>\n",
       "      <td>32</td>\n",
       "    </tr>\n",
       "    <tr>\n",
       "      <th>3</th>\n",
       "      <td>1</td>\n",
       "      <td>0</td>\n",
       "      <td>1</td>\n",
       "      <td>3</td>\n",
       "      <td>0</td>\n",
       "      <td>6</td>\n",
       "      <td>0</td>\n",
       "      <td>1</td>\n",
       "      <td>0.24</td>\n",
       "      <td>0.2879</td>\n",
       "      <td>0.75</td>\n",
       "      <td>0.0</td>\n",
       "      <td>3</td>\n",
       "      <td>10</td>\n",
       "      <td>13</td>\n",
       "    </tr>\n",
       "    <tr>\n",
       "      <th>4</th>\n",
       "      <td>1</td>\n",
       "      <td>0</td>\n",
       "      <td>1</td>\n",
       "      <td>4</td>\n",
       "      <td>0</td>\n",
       "      <td>6</td>\n",
       "      <td>0</td>\n",
       "      <td>1</td>\n",
       "      <td>0.24</td>\n",
       "      <td>0.2879</td>\n",
       "      <td>0.75</td>\n",
       "      <td>0.0</td>\n",
       "      <td>0</td>\n",
       "      <td>1</td>\n",
       "      <td>1</td>\n",
       "    </tr>\n",
       "  </tbody>\n",
       "</table>\n",
       "</div>"
      ],
      "text/plain": [
       "   season  yr  mnth  hr  holiday  weekday  workingday  weathersit  temp  \\\n",
       "0       1   0     1   0        0        6           0           1  0.24   \n",
       "1       1   0     1   1        0        6           0           1  0.22   \n",
       "2       1   0     1   2        0        6           0           1  0.22   \n",
       "3       1   0     1   3        0        6           0           1  0.24   \n",
       "4       1   0     1   4        0        6           0           1  0.24   \n",
       "\n",
       "    atemp   hum  windspeed  casual  registered  cnt  \n",
       "0  0.2879  0.81        0.0       3          13   16  \n",
       "1  0.2727  0.80        0.0       8          32   40  \n",
       "2  0.2727  0.80        0.0       5          27   32  \n",
       "3  0.2879  0.75        0.0       3          10   13  \n",
       "4  0.2879  0.75        0.0       0           1    1  "
      ]
     },
     "execution_count": 5,
     "metadata": {},
     "output_type": "execute_result"
    }
   ],
   "source": [
    "# loading dataset from sklearn\n",
    "df = pd.read_csv('bike sharing hour.csv')\n",
    "df.drop(['instant','dteday'],1,inplace=True)\n",
    "full_data = df.astype(float).values.tolist()\n",
    "df.head()"
   ]
  },
  {
   "cell_type": "code",
   "execution_count": 40,
   "metadata": {},
   "outputs": [],
   "source": [
    "# storing features in x and target variable in y\n",
    "x = np.matrix(full_data)[:,:-1]\n",
    "y = np.matrix(full_data)[:,-1]"
   ]
  },
  {
   "cell_type": "code",
   "execution_count": 116,
   "metadata": {
    "scrolled": true
   },
   "outputs": [
    {
     "name": "stdout",
     "output_type": "stream",
     "text": [
      "(1, 15)\n",
      "[[0. 0. 0. 0. 0. 0. 0. 0. 0. 0. 0. 0. 0. 0. 0.]]\n",
      "(17379, 15)\n"
     ]
    }
   ],
   "source": [
    "#=================== MULTI-VARIATE LINEAR REGRESSION ===================\n",
    "\n",
    "#================== INITIALISING HYPER-PARAMETERS ======================\n",
    "# Hyper-parameters for a multi-variate linear regression are:\n",
    "#  1. Theta (weights) which describe the line\n",
    "#  2. epochs- number of times we run our linear regression to minimise the loss\n",
    "#  3. alpha- the learning rate\n",
    "# initialising theta with zeros\n",
    "theta = np.zeros((1, x.shape[1] + 1)) #its dimensions are (1,14) because of the presence of a bias term (intercept)\n",
    "print(theta.shape)\n",
    "print(theta)\n",
    "\n",
    "#Both epoch and alpha can be changed and tested on different numbers\n",
    "# to minimise loss at a different rate(Advisable)\n",
    "epoch = 15000 #1 EPOCH means 1 PASS over the WHOLE TRAINING DATA\n",
    "alpha = 0.00001\n",
    "#INCREASE EPOCHS AND OBSERVE THE COST\n",
    "# creating bias vector x0\n",
    "x0 = np.ones((x.shape[0], 1))\n",
    "# forming input variable\n",
    "X = np.concatenate((x0, x), axis = 1)\n",
    "print(X.shape)"
   ]
  },
  {
   "cell_type": "code",
   "execution_count": 117,
   "metadata": {
    "scrolled": true
   },
   "outputs": [
    {
     "name": "stdout",
     "output_type": "stream",
     "text": [
      "34397.91475343806\n"
     ]
    }
   ],
   "source": [
    "# ================================ DEFINING COST FUNCTION ================================\n",
    "def cost_function(X, y, theta):\n",
    "    h = X.dot(theta.T)\n",
    "    loss = np.array(h - y)\n",
    "    return np.sum(loss ** 2)/ (2 * len(X))\n",
    "\n",
    "# For testing the function\n",
    "cost = cost_function(X, y, theta)\n",
    "print(cost)"
   ]
  },
  {
   "cell_type": "code",
   "execution_count": 118,
   "metadata": {},
   "outputs": [
    {
     "name": "stdout",
     "output_type": "stream",
     "text": [
      "Cost before:  34397.91475343806\n",
      "Cost after:  34069.27841774834\n"
     ]
    }
   ],
   "source": [
    "# ============================ DEFINING GRADIENT DESCENT =========================\n",
    "def grad_descent(X, y, theta, alpha):\n",
    "    h = X.dot(theta.T)\n",
    "    loss = h - y\n",
    "    dj = (loss.T).dot(X)\n",
    "    theta = theta - (alpha/len(X)) * dj\n",
    "    return theta\n",
    "\n",
    "# For testing the function \n",
    "cost = cost_function(X, y, theta)\n",
    "print(\"Cost before: \", cost)\n",
    "\n",
    "theta = grad_descent(X, y, theta, 0.0000001)\n",
    "\n",
    "cost = cost_function(X, y, theta)\n",
    "print(\"Cost after: \", cost)"
   ]
  },
  {
   "cell_type": "code",
   "execution_count": 119,
   "metadata": {
    "scrolled": true
   },
   "outputs": [
    {
     "name": "stdout",
     "output_type": "stream",
     "text": [
      "Cost function:  0.06598291215547025\n",
      "Cost function:  0.010441594949059144\n",
      "Cost function:  0.0016549286887159419\n",
      "Cost function:  0.0002648092764159743\n",
      "Cost function:  4.482235431158885e-05\n",
      "Cost function:  9.95456873778526e-06\n",
      "Cost function:  4.3771883882875906e-06\n",
      "Cost function:  3.4377671056585744e-06\n",
      "Cost function:  3.2358879660050657e-06\n",
      "Cost function:  3.154139481139265e-06\n",
      "Cost function:  3.094522689760658e-06\n",
      "Cost function:  3.0412458637385867e-06\n",
      "Cost function:  2.991553385292047e-06\n",
      "Cost function:  2.9447785888023816e-06\n",
      "Cost function:  2.9006084944694434e-06\n"
     ]
    }
   ],
   "source": [
    "# ========================== DEFINING OUR LINEAR REGRESSION =========================\n",
    "def linear_reg(epoch, X, y, theta, alpha):\n",
    "    for ep in range(epoch):\n",
    "        \n",
    "        #calculate new theta\n",
    "        theta = grad_descent(X, y, theta, alpha)\n",
    "        \n",
    "        #compute new loss\n",
    "        if (ep+1)%1000 == 0:\n",
    "            loss = cost_function(X, y, theta)\n",
    "            print(\"Cost function: \", loss)\n",
    "        \n",
    "    return theta\n",
    "\n",
    "theta = linear_reg(epoch, X, y, theta, alpha)"
   ]
  },
  {
   "cell_type": "code",
   "execution_count": 120,
   "metadata": {},
   "outputs": [
    {
     "data": {
      "text/plain": [
       "matrix([[ 8.57739948e-05,  1.29649641e-03,  1.33272251e-03,\n",
       "         -2.88690518e-04,  6.48981153e-05,  1.48421388e-04,\n",
       "          5.76784486e-04, -3.38983259e-03, -1.80298076e-03,\n",
       "          1.71111253e-03,  1.51163762e-03, -1.08489974e-03,\n",
       "          1.71632381e-04,  9.99972885e-01,  1.00000111e+00]])"
      ]
     },
     "execution_count": 120,
     "metadata": {},
     "output_type": "execute_result"
    }
   ],
   "source": [
    "theta"
   ]
  },
  {
   "cell_type": "code",
   "execution_count": 121,
   "metadata": {},
   "outputs": [],
   "source": [
    "# ========================= TESTING THE DATA ========================\n",
    "def predict(X, theta):\n",
    "    return X.dot(theta.T)\n",
    "\n",
    "y_pred =  predict(X, theta)"
   ]
  },
  {
   "cell_type": "code",
   "execution_count": 122,
   "metadata": {},
   "outputs": [],
   "source": [
    "# ====================== Find error in the predicted values=============\n",
    "def mean_squared_error(h, y):\n",
    "    m = y.shape[0]\n",
    "    loss = np.array(h-y)\n",
    "    return np.sum((loss ** 2 ) / m)\n",
    "\n",
    "# for testing the function\n",
    "# mean_squared_error(y_pred, y_test)"
   ]
  },
  {
   "cell_type": "code",
   "execution_count": 123,
   "metadata": {
    "scrolled": true
   },
   "outputs": [
    {
     "data": {
      "image/png": "[encoded data removed]",
      "text/plain": [
       "<Figure size 432x288 with 1 Axes>"
      ]
     },
     "metadata": {
      "needs_background": "light"
     },
     "output_type": "display_data"
    },
    {
     "name": "stdout",
     "output_type": "stream",
     "text": [
      "5.801216988938887e-06\n",
      "2.9006084944694434e-06\n"
     ]
    }
   ],
   "source": [
    "# ================= Plotting hypothesis value vs actual value for train set=========\n",
    "h = X.dot(theta.T)\n",
    "plt.plot(h, y, 'b.')\n",
    "plt.ylabel('Actual value')\n",
    "plt.xlabel('Predicted value')\n",
    "plt.show()\n",
    "\n",
    "print(mean_squared_error(h, y))\n",
    "print(cost_function(X, y, theta))"
   ]
  },
  {
   "cell_type": "code",
   "execution_count": null,
   "metadata": {},
   "outputs": [],
   "source": []
  }
 ],
 "metadata": {
  "kernelspec": {
   "display_name": "Python 3",
   "language": "python",
   "name": "python3"
  },
  "language_info": {
   "codemirror_mode": {
    "name": "ipython",
    "version": 3
   },
   "file_extension": ".py",
   "mimetype": "text/x-python",
   "name": "python",
   "nbconvert_exporter": "python",
   "pygments_lexer": "ipython3",
   "version": "3.5.6"
  }
 },
 "nbformat": 4,
 "nbformat_minor": 2
}
